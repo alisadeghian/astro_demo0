{
 "cells": [
  {
   "cell_type": "code",
   "execution_count": 2,
   "metadata": {},
   "outputs": [],
   "source": [
    "import os\n",
    "import yaml\n",
    "import sys\n",
    "#read a yml file and return the output as a dictionary\n",
    "def read_yml(file_name):\n",
    "    with open(file_name, 'r') as stream:\n",
    "        # load the yml file as a dictionary\n",
    "        config = yaml.safe_load(stream)\n",
    "    return config\n",
    "\n",
    "config = read_yml(\"config_hyperpar.yml\") "
   ]
  },
  {
   "cell_type": "code",
   "execution_count": 3,
   "metadata": {},
   "outputs": [
    {
     "data": {
      "text/plain": [
       "bool"
      ]
     },
     "execution_count": 3,
     "metadata": {},
     "output_type": "execute_result"
    }
   ],
   "source": [
    "type(config['no_pe'])"
   ]
  },
  {
   "cell_type": "code",
   "execution_count": 4,
   "metadata": {},
   "outputs": [],
   "source": [
    "# a function to get the number of gpus available\n",
    "\n",
    "def get_gpus():\n",
    "    os.system(\"nvidia-smi -L\")\n",
    "    gpus = os.popen(\"nvidia-smi -L\").read().splitlines()\n",
    "    return len(gpus)"
   ]
  },
  {
   "cell_type": "code",
   "execution_count": 5,
   "metadata": {},
   "outputs": [
    {
     "name": "stdout",
     "output_type": "stream",
     "text": [
      "GPU 0: NVIDIA GeForce GTX 1080 Ti (UUID: GPU-adb38e32-69a6-943c-1329-6cb1bea5607a)\n",
      "GPU 1: NVIDIA GeForce GTX 1080 Ti (UUID: GPU-48ea4460-f033-a344-3849-1e14791aef64)\n",
      "GPU 2: NVIDIA GeForce GTX 1080 Ti (UUID: GPU-75d67f86-0d17-1fce-b2c9-409c006ea79c)\n",
      "GPU 3: NVIDIA GeForce GTX 1080 Ti (UUID: GPU-54546aee-7861-497c-6260-921580b2fac3)\n",
      "GPU 4: NVIDIA GeForce GTX 1080 Ti (UUID: GPU-2daa1cb4-049c-1447-2cdc-f8d663a0b269)\n",
      "GPU 5: NVIDIA GeForce GTX 1080 Ti (UUID: GPU-a7dcef3d-372b-1f2c-1526-0d4e3625febf)\n",
      "GPU 6: NVIDIA GeForce GTX 1080 Ti (UUID: GPU-4865a397-0d06-2eca-f903-c77e15ddfabb)\n",
      "GPU 7: NVIDIA GeForce GTX 1080 Ti (UUID: GPU-25d5ce06-bdba-db56-1921-517b1c804a84)\n",
      "GPU 8: NVIDIA GeForce GTX 1080 Ti (UUID: GPU-8628b156-32f2-35bc-fce0-f03b7fd0902d)\n",
      "GPU 9: NVIDIA GeForce GTX 1080 Ti (UUID: GPU-e5df9d91-4acc-ac98-e6c0-a04c847f5990)\n"
     ]
    }
   ],
   "source": [
    "n_gpu = get_gpus()"
   ]
  },
  {
   "cell_type": "code",
   "execution_count": 6,
   "metadata": {},
   "outputs": [
    {
     "data": {
      "text/plain": [
       "10"
      ]
     },
     "execution_count": 6,
     "metadata": {},
     "output_type": "execute_result"
    }
   ],
   "source": [
    "n_gpu"
   ]
  },
  {
   "cell_type": "code",
   "execution_count": 7,
   "metadata": {},
   "outputs": [
    {
     "name": "stdout",
     "output_type": "stream",
     "text": [
      "[('a 3D rendering of a Roman soldier', 12.0, 4, 29, True), ('a 3D rendering of a Roman soldier', 12.0, 4, 29, False), ('a 3D rendering of a Roman soldier', 12.0, 4, 1821, True), ('a 3D rendering of a Roman soldier', 12.0, 4, 1821, False), ('a 3D rendering of a Roman soldier', 12.0, 4, 3661, True), ('a 3D rendering of a Roman soldier', 12.0, 4, 3661, False), ('a 3D rendering of a Roman soldier', 12.0, 100, 29, True), ('a 3D rendering of a Roman soldier', 12.0, 100, 29, False), ('a 3D rendering of a Roman soldier', 12.0, 100, 1821, True), ('a 3D rendering of a Roman soldier', 12.0, 100, 1821, False), ('a 3D rendering of a Roman soldier', 12.0, 100, 3661, True), ('a 3D rendering of a Roman soldier', 12.0, 100, 3661, False), ('a 3D rendering of a Roman soldier', 5.0, 4, 29, True), ('a 3D rendering of a Roman soldier', 5.0, 4, 29, False), ('a 3D rendering of a Roman soldier', 5.0, 4, 1821, True), ('a 3D rendering of a Roman soldier', 5.0, 4, 1821, False), ('a 3D rendering of a Roman soldier', 5.0, 4, 3661, True), ('a 3D rendering of a Roman soldier', 5.0, 4, 3661, False), ('a 3D rendering of a Roman soldier', 5.0, 100, 29, True), ('a 3D rendering of a Roman soldier', 5.0, 100, 29, False), ('a 3D rendering of a Roman soldier', 5.0, 100, 1821, True), ('a 3D rendering of a Roman soldier', 5.0, 100, 1821, False), ('a 3D rendering of a Roman soldier', 5.0, 100, 3661, True), ('a 3D rendering of a Roman soldier', 5.0, 100, 3661, False), ('a 3D rendering of a Roman soldier', 1.0, 4, 29, True), ('a 3D rendering of a Roman soldier', 1.0, 4, 29, False), ('a 3D rendering of a Roman soldier', 1.0, 4, 1821, True), ('a 3D rendering of a Roman soldier', 1.0, 4, 1821, False), ('a 3D rendering of a Roman soldier', 1.0, 4, 3661, True), ('a 3D rendering of a Roman soldier', 1.0, 4, 3661, False), ('a 3D rendering of a Roman soldier', 1.0, 100, 29, True), ('a 3D rendering of a Roman soldier', 1.0, 100, 29, False), ('a 3D rendering of a Roman soldier', 1.0, 100, 1821, True), ('a 3D rendering of a Roman soldier', 1.0, 100, 1821, False), ('a 3D rendering of a Roman soldier', 1.0, 100, 3661, True), ('a 3D rendering of a Roman soldier', 1.0, 100, 3661, False), ('a legionary wearing armor', 12.0, 4, 29, True), ('a legionary wearing armor', 12.0, 4, 29, False), ('a legionary wearing armor', 12.0, 4, 1821, True), ('a legionary wearing armor', 12.0, 4, 1821, False), ('a legionary wearing armor', 12.0, 4, 3661, True), ('a legionary wearing armor', 12.0, 4, 3661, False), ('a legionary wearing armor', 12.0, 100, 29, True), ('a legionary wearing armor', 12.0, 100, 29, False), ('a legionary wearing armor', 12.0, 100, 1821, True), ('a legionary wearing armor', 12.0, 100, 1821, False), ('a legionary wearing armor', 12.0, 100, 3661, True), ('a legionary wearing armor', 12.0, 100, 3661, False), ('a legionary wearing armor', 5.0, 4, 29, True), ('a legionary wearing armor', 5.0, 4, 29, False), ('a legionary wearing armor', 5.0, 4, 1821, True), ('a legionary wearing armor', 5.0, 4, 1821, False), ('a legionary wearing armor', 5.0, 4, 3661, True), ('a legionary wearing armor', 5.0, 4, 3661, False), ('a legionary wearing armor', 5.0, 100, 29, True), ('a legionary wearing armor', 5.0, 100, 29, False), ('a legionary wearing armor', 5.0, 100, 1821, True), ('a legionary wearing armor', 5.0, 100, 1821, False), ('a legionary wearing armor', 5.0, 100, 3661, True), ('a legionary wearing armor', 5.0, 100, 3661, False), ('a legionary wearing armor', 1.0, 4, 29, True), ('a legionary wearing armor', 1.0, 4, 29, False), ('a legionary wearing armor', 1.0, 4, 1821, True), ('a legionary wearing armor', 1.0, 4, 1821, False), ('a legionary wearing armor', 1.0, 4, 3661, True), ('a legionary wearing armor', 1.0, 4, 3661, False), ('a legionary wearing armor', 1.0, 100, 29, True), ('a legionary wearing armor', 1.0, 100, 29, False), ('a legionary wearing armor', 1.0, 100, 1821, True), ('a legionary wearing armor', 1.0, 100, 1821, False), ('a legionary wearing armor', 1.0, 100, 3661, True), ('a legionary wearing armor', 1.0, 100, 3661, False)]\n",
      "[{'prompt': 'a 3D rendering of a Roman soldier', 'sigma': 12.0, 'frontview_std': 4, 'seed': 29, 'standardize': True}, {'prompt': 'a 3D rendering of a Roman soldier', 'sigma': 12.0, 'frontview_std': 4, 'seed': 29, 'standardize': False}, {'prompt': 'a 3D rendering of a Roman soldier', 'sigma': 12.0, 'frontview_std': 4, 'seed': 1821, 'standardize': True}, {'prompt': 'a 3D rendering of a Roman soldier', 'sigma': 12.0, 'frontview_std': 4, 'seed': 1821, 'standardize': False}, {'prompt': 'a 3D rendering of a Roman soldier', 'sigma': 12.0, 'frontview_std': 4, 'seed': 3661, 'standardize': True}, {'prompt': 'a 3D rendering of a Roman soldier', 'sigma': 12.0, 'frontview_std': 4, 'seed': 3661, 'standardize': False}, {'prompt': 'a 3D rendering of a Roman soldier', 'sigma': 12.0, 'frontview_std': 100, 'seed': 29, 'standardize': True}, {'prompt': 'a 3D rendering of a Roman soldier', 'sigma': 12.0, 'frontview_std': 100, 'seed': 29, 'standardize': False}, {'prompt': 'a 3D rendering of a Roman soldier', 'sigma': 12.0, 'frontview_std': 100, 'seed': 1821, 'standardize': True}, {'prompt': 'a 3D rendering of a Roman soldier', 'sigma': 12.0, 'frontview_std': 100, 'seed': 1821, 'standardize': False}, {'prompt': 'a 3D rendering of a Roman soldier', 'sigma': 12.0, 'frontview_std': 100, 'seed': 3661, 'standardize': True}, {'prompt': 'a 3D rendering of a Roman soldier', 'sigma': 12.0, 'frontview_std': 100, 'seed': 3661, 'standardize': False}, {'prompt': 'a 3D rendering of a Roman soldier', 'sigma': 5.0, 'frontview_std': 4, 'seed': 29, 'standardize': True}, {'prompt': 'a 3D rendering of a Roman soldier', 'sigma': 5.0, 'frontview_std': 4, 'seed': 29, 'standardize': False}, {'prompt': 'a 3D rendering of a Roman soldier', 'sigma': 5.0, 'frontview_std': 4, 'seed': 1821, 'standardize': True}, {'prompt': 'a 3D rendering of a Roman soldier', 'sigma': 5.0, 'frontview_std': 4, 'seed': 1821, 'standardize': False}, {'prompt': 'a 3D rendering of a Roman soldier', 'sigma': 5.0, 'frontview_std': 4, 'seed': 3661, 'standardize': True}, {'prompt': 'a 3D rendering of a Roman soldier', 'sigma': 5.0, 'frontview_std': 4, 'seed': 3661, 'standardize': False}, {'prompt': 'a 3D rendering of a Roman soldier', 'sigma': 5.0, 'frontview_std': 100, 'seed': 29, 'standardize': True}, {'prompt': 'a 3D rendering of a Roman soldier', 'sigma': 5.0, 'frontview_std': 100, 'seed': 29, 'standardize': False}, {'prompt': 'a 3D rendering of a Roman soldier', 'sigma': 5.0, 'frontview_std': 100, 'seed': 1821, 'standardize': True}, {'prompt': 'a 3D rendering of a Roman soldier', 'sigma': 5.0, 'frontview_std': 100, 'seed': 1821, 'standardize': False}, {'prompt': 'a 3D rendering of a Roman soldier', 'sigma': 5.0, 'frontview_std': 100, 'seed': 3661, 'standardize': True}, {'prompt': 'a 3D rendering of a Roman soldier', 'sigma': 5.0, 'frontview_std': 100, 'seed': 3661, 'standardize': False}, {'prompt': 'a 3D rendering of a Roman soldier', 'sigma': 1.0, 'frontview_std': 4, 'seed': 29, 'standardize': True}, {'prompt': 'a 3D rendering of a Roman soldier', 'sigma': 1.0, 'frontview_std': 4, 'seed': 29, 'standardize': False}, {'prompt': 'a 3D rendering of a Roman soldier', 'sigma': 1.0, 'frontview_std': 4, 'seed': 1821, 'standardize': True}, {'prompt': 'a 3D rendering of a Roman soldier', 'sigma': 1.0, 'frontview_std': 4, 'seed': 1821, 'standardize': False}, {'prompt': 'a 3D rendering of a Roman soldier', 'sigma': 1.0, 'frontview_std': 4, 'seed': 3661, 'standardize': True}, {'prompt': 'a 3D rendering of a Roman soldier', 'sigma': 1.0, 'frontview_std': 4, 'seed': 3661, 'standardize': False}, {'prompt': 'a 3D rendering of a Roman soldier', 'sigma': 1.0, 'frontview_std': 100, 'seed': 29, 'standardize': True}, {'prompt': 'a 3D rendering of a Roman soldier', 'sigma': 1.0, 'frontview_std': 100, 'seed': 29, 'standardize': False}, {'prompt': 'a 3D rendering of a Roman soldier', 'sigma': 1.0, 'frontview_std': 100, 'seed': 1821, 'standardize': True}, {'prompt': 'a 3D rendering of a Roman soldier', 'sigma': 1.0, 'frontview_std': 100, 'seed': 1821, 'standardize': False}, {'prompt': 'a 3D rendering of a Roman soldier', 'sigma': 1.0, 'frontview_std': 100, 'seed': 3661, 'standardize': True}, {'prompt': 'a 3D rendering of a Roman soldier', 'sigma': 1.0, 'frontview_std': 100, 'seed': 3661, 'standardize': False}, {'prompt': 'a legionary wearing armor', 'sigma': 12.0, 'frontview_std': 4, 'seed': 29, 'standardize': True}, {'prompt': 'a legionary wearing armor', 'sigma': 12.0, 'frontview_std': 4, 'seed': 29, 'standardize': False}, {'prompt': 'a legionary wearing armor', 'sigma': 12.0, 'frontview_std': 4, 'seed': 1821, 'standardize': True}, {'prompt': 'a legionary wearing armor', 'sigma': 12.0, 'frontview_std': 4, 'seed': 1821, 'standardize': False}, {'prompt': 'a legionary wearing armor', 'sigma': 12.0, 'frontview_std': 4, 'seed': 3661, 'standardize': True}, {'prompt': 'a legionary wearing armor', 'sigma': 12.0, 'frontview_std': 4, 'seed': 3661, 'standardize': False}, {'prompt': 'a legionary wearing armor', 'sigma': 12.0, 'frontview_std': 100, 'seed': 29, 'standardize': True}, {'prompt': 'a legionary wearing armor', 'sigma': 12.0, 'frontview_std': 100, 'seed': 29, 'standardize': False}, {'prompt': 'a legionary wearing armor', 'sigma': 12.0, 'frontview_std': 100, 'seed': 1821, 'standardize': True}, {'prompt': 'a legionary wearing armor', 'sigma': 12.0, 'frontview_std': 100, 'seed': 1821, 'standardize': False}, {'prompt': 'a legionary wearing armor', 'sigma': 12.0, 'frontview_std': 100, 'seed': 3661, 'standardize': True}, {'prompt': 'a legionary wearing armor', 'sigma': 12.0, 'frontview_std': 100, 'seed': 3661, 'standardize': False}, {'prompt': 'a legionary wearing armor', 'sigma': 5.0, 'frontview_std': 4, 'seed': 29, 'standardize': True}, {'prompt': 'a legionary wearing armor', 'sigma': 5.0, 'frontview_std': 4, 'seed': 29, 'standardize': False}, {'prompt': 'a legionary wearing armor', 'sigma': 5.0, 'frontview_std': 4, 'seed': 1821, 'standardize': True}, {'prompt': 'a legionary wearing armor', 'sigma': 5.0, 'frontview_std': 4, 'seed': 1821, 'standardize': False}, {'prompt': 'a legionary wearing armor', 'sigma': 5.0, 'frontview_std': 4, 'seed': 3661, 'standardize': True}, {'prompt': 'a legionary wearing armor', 'sigma': 5.0, 'frontview_std': 4, 'seed': 3661, 'standardize': False}, {'prompt': 'a legionary wearing armor', 'sigma': 5.0, 'frontview_std': 100, 'seed': 29, 'standardize': True}, {'prompt': 'a legionary wearing armor', 'sigma': 5.0, 'frontview_std': 100, 'seed': 29, 'standardize': False}, {'prompt': 'a legionary wearing armor', 'sigma': 5.0, 'frontview_std': 100, 'seed': 1821, 'standardize': True}, {'prompt': 'a legionary wearing armor', 'sigma': 5.0, 'frontview_std': 100, 'seed': 1821, 'standardize': False}, {'prompt': 'a legionary wearing armor', 'sigma': 5.0, 'frontview_std': 100, 'seed': 3661, 'standardize': True}, {'prompt': 'a legionary wearing armor', 'sigma': 5.0, 'frontview_std': 100, 'seed': 3661, 'standardize': False}, {'prompt': 'a legionary wearing armor', 'sigma': 1.0, 'frontview_std': 4, 'seed': 29, 'standardize': True}, {'prompt': 'a legionary wearing armor', 'sigma': 1.0, 'frontview_std': 4, 'seed': 29, 'standardize': False}, {'prompt': 'a legionary wearing armor', 'sigma': 1.0, 'frontview_std': 4, 'seed': 1821, 'standardize': True}, {'prompt': 'a legionary wearing armor', 'sigma': 1.0, 'frontview_std': 4, 'seed': 1821, 'standardize': False}, {'prompt': 'a legionary wearing armor', 'sigma': 1.0, 'frontview_std': 4, 'seed': 3661, 'standardize': True}, {'prompt': 'a legionary wearing armor', 'sigma': 1.0, 'frontview_std': 4, 'seed': 3661, 'standardize': False}, {'prompt': 'a legionary wearing armor', 'sigma': 1.0, 'frontview_std': 100, 'seed': 29, 'standardize': True}, {'prompt': 'a legionary wearing armor', 'sigma': 1.0, 'frontview_std': 100, 'seed': 29, 'standardize': False}, {'prompt': 'a legionary wearing armor', 'sigma': 1.0, 'frontview_std': 100, 'seed': 1821, 'standardize': True}, {'prompt': 'a legionary wearing armor', 'sigma': 1.0, 'frontview_std': 100, 'seed': 1821, 'standardize': False}, {'prompt': 'a legionary wearing armor', 'sigma': 1.0, 'frontview_std': 100, 'seed': 3661, 'standardize': True}, {'prompt': 'a legionary wearing armor', 'sigma': 1.0, 'frontview_std': 100, 'seed': 3661, 'standardize': False}]\n"
     ]
    }
   ],
   "source": [
    "#import cartesian product\n",
    "from itertools import product\n",
    "list_of_keys = []\n",
    "for key in config.keys():\n",
    "    if isinstance(config[key], list):\n",
    "        list_of_keys.append(key)\n",
    "\n",
    "# create a cartesian product of the list of keys and the values inside the list\n",
    "# and return the list of tuples\n",
    "cartesian_product = list(product(*(config[key] for key in list_of_keys)))\n",
    "print(cartesian_product)\n",
    "# create a list of dictionaries\n",
    "# each dictionary is a combination of the cartesian product of the list of keys and the values inside the list\n",
    "list_of_dict = [dict(zip(list_of_keys, tup)) for tup in cartesian_product]\n",
    "print(list_of_dict)"
   ]
  },
  {
   "cell_type": "code",
   "execution_count": 8,
   "metadata": {},
   "outputs": [
    {
     "data": {
      "text/plain": [
       "True"
      ]
     },
     "execution_count": 8,
     "metadata": {},
     "output_type": "execute_result"
    }
   ],
   "source": [
    "# write a script for each combination of parameters in list_of_dict\n",
    "0 == False"
   ]
  },
  {
   "cell_type": "code",
   "execution_count": 9,
   "metadata": {},
   "outputs": [
    {
     "name": "stdout",
     "output_type": "stream",
     "text": [
      "[('a 3D rendering of a Roman soldier', 12.0, 4, 29, True), ('a 3D rendering of a Roman soldier', 12.0, 4, 29, False), ('a 3D rendering of a Roman soldier', 12.0, 4, 1821, True), ('a 3D rendering of a Roman soldier', 12.0, 4, 1821, False), ('a 3D rendering of a Roman soldier', 12.0, 4, 3661, True), ('a 3D rendering of a Roman soldier', 12.0, 4, 3661, False), ('a 3D rendering of a Roman soldier', 12.0, 100, 29, True), ('a 3D rendering of a Roman soldier', 12.0, 100, 29, False), ('a 3D rendering of a Roman soldier', 12.0, 100, 1821, True), ('a 3D rendering of a Roman soldier', 12.0, 100, 1821, False), ('a 3D rendering of a Roman soldier', 12.0, 100, 3661, True), ('a 3D rendering of a Roman soldier', 12.0, 100, 3661, False), ('a 3D rendering of a Roman soldier', 5.0, 4, 29, True), ('a 3D rendering of a Roman soldier', 5.0, 4, 29, False), ('a 3D rendering of a Roman soldier', 5.0, 4, 1821, True), ('a 3D rendering of a Roman soldier', 5.0, 4, 1821, False), ('a 3D rendering of a Roman soldier', 5.0, 4, 3661, True), ('a 3D rendering of a Roman soldier', 5.0, 4, 3661, False), ('a 3D rendering of a Roman soldier', 5.0, 100, 29, True), ('a 3D rendering of a Roman soldier', 5.0, 100, 29, False), ('a 3D rendering of a Roman soldier', 5.0, 100, 1821, True), ('a 3D rendering of a Roman soldier', 5.0, 100, 1821, False), ('a 3D rendering of a Roman soldier', 5.0, 100, 3661, True), ('a 3D rendering of a Roman soldier', 5.0, 100, 3661, False), ('a 3D rendering of a Roman soldier', 1.0, 4, 29, True), ('a 3D rendering of a Roman soldier', 1.0, 4, 29, False), ('a 3D rendering of a Roman soldier', 1.0, 4, 1821, True), ('a 3D rendering of a Roman soldier', 1.0, 4, 1821, False), ('a 3D rendering of a Roman soldier', 1.0, 4, 3661, True), ('a 3D rendering of a Roman soldier', 1.0, 4, 3661, False), ('a 3D rendering of a Roman soldier', 1.0, 100, 29, True), ('a 3D rendering of a Roman soldier', 1.0, 100, 29, False), ('a 3D rendering of a Roman soldier', 1.0, 100, 1821, True), ('a 3D rendering of a Roman soldier', 1.0, 100, 1821, False), ('a 3D rendering of a Roman soldier', 1.0, 100, 3661, True), ('a 3D rendering of a Roman soldier', 1.0, 100, 3661, False), ('a legionary wearing armor', 12.0, 4, 29, True), ('a legionary wearing armor', 12.0, 4, 29, False), ('a legionary wearing armor', 12.0, 4, 1821, True), ('a legionary wearing armor', 12.0, 4, 1821, False), ('a legionary wearing armor', 12.0, 4, 3661, True), ('a legionary wearing armor', 12.0, 4, 3661, False), ('a legionary wearing armor', 12.0, 100, 29, True), ('a legionary wearing armor', 12.0, 100, 29, False), ('a legionary wearing armor', 12.0, 100, 1821, True), ('a legionary wearing armor', 12.0, 100, 1821, False), ('a legionary wearing armor', 12.0, 100, 3661, True), ('a legionary wearing armor', 12.0, 100, 3661, False), ('a legionary wearing armor', 5.0, 4, 29, True), ('a legionary wearing armor', 5.0, 4, 29, False), ('a legionary wearing armor', 5.0, 4, 1821, True), ('a legionary wearing armor', 5.0, 4, 1821, False), ('a legionary wearing armor', 5.0, 4, 3661, True), ('a legionary wearing armor', 5.0, 4, 3661, False), ('a legionary wearing armor', 5.0, 100, 29, True), ('a legionary wearing armor', 5.0, 100, 29, False), ('a legionary wearing armor', 5.0, 100, 1821, True), ('a legionary wearing armor', 5.0, 100, 1821, False), ('a legionary wearing armor', 5.0, 100, 3661, True), ('a legionary wearing armor', 5.0, 100, 3661, False), ('a legionary wearing armor', 1.0, 4, 29, True), ('a legionary wearing armor', 1.0, 4, 29, False), ('a legionary wearing armor', 1.0, 4, 1821, True), ('a legionary wearing armor', 1.0, 4, 1821, False), ('a legionary wearing armor', 1.0, 4, 3661, True), ('a legionary wearing armor', 1.0, 4, 3661, False), ('a legionary wearing armor', 1.0, 100, 29, True), ('a legionary wearing armor', 1.0, 100, 29, False), ('a legionary wearing armor', 1.0, 100, 1821, True), ('a legionary wearing armor', 1.0, 100, 1821, False), ('a legionary wearing armor', 1.0, 100, 3661, True), ('a legionary wearing armor', 1.0, 100, 3661, False)]\n",
      "{'prompt': 'a 3D rendering of a Roman soldier', 'sigma': 12.0, 'frontview_std': 4, 'seed': 29, 'standardize': True}\n",
      "{'prompt': 'a 3D rendering of a Roman soldier', 'sigma': 12.0, 'frontview_std': 4, 'seed': 29, 'standardize': False}\n",
      "{'prompt': 'a 3D rendering of a Roman soldier', 'sigma': 12.0, 'frontview_std': 4, 'seed': 1821, 'standardize': True}\n",
      "{'prompt': 'a 3D rendering of a Roman soldier', 'sigma': 12.0, 'frontview_std': 4, 'seed': 1821, 'standardize': False}\n",
      "{'prompt': 'a 3D rendering of a Roman soldier', 'sigma': 12.0, 'frontview_std': 4, 'seed': 3661, 'standardize': True}\n",
      "{'prompt': 'a 3D rendering of a Roman soldier', 'sigma': 12.0, 'frontview_std': 4, 'seed': 3661, 'standardize': False}\n",
      "{'prompt': 'a 3D rendering of a Roman soldier', 'sigma': 12.0, 'frontview_std': 100, 'seed': 29, 'standardize': True}\n",
      "{'prompt': 'a 3D rendering of a Roman soldier', 'sigma': 12.0, 'frontview_std': 100, 'seed': 29, 'standardize': False}\n",
      "{'prompt': 'a 3D rendering of a Roman soldier', 'sigma': 12.0, 'frontview_std': 100, 'seed': 1821, 'standardize': True}\n",
      "{'prompt': 'a 3D rendering of a Roman soldier', 'sigma': 12.0, 'frontview_std': 100, 'seed': 1821, 'standardize': False}\n",
      "{'prompt': 'a 3D rendering of a Roman soldier', 'sigma': 12.0, 'frontview_std': 100, 'seed': 3661, 'standardize': True}\n",
      "{'prompt': 'a 3D rendering of a Roman soldier', 'sigma': 12.0, 'frontview_std': 100, 'seed': 3661, 'standardize': False}\n",
      "{'prompt': 'a 3D rendering of a Roman soldier', 'sigma': 5.0, 'frontview_std': 4, 'seed': 29, 'standardize': True}\n",
      "{'prompt': 'a 3D rendering of a Roman soldier', 'sigma': 5.0, 'frontview_std': 4, 'seed': 29, 'standardize': False}\n",
      "{'prompt': 'a 3D rendering of a Roman soldier', 'sigma': 5.0, 'frontview_std': 4, 'seed': 1821, 'standardize': True}\n",
      "{'prompt': 'a 3D rendering of a Roman soldier', 'sigma': 5.0, 'frontview_std': 4, 'seed': 1821, 'standardize': False}\n",
      "{'prompt': 'a 3D rendering of a Roman soldier', 'sigma': 5.0, 'frontview_std': 4, 'seed': 3661, 'standardize': True}\n",
      "{'prompt': 'a 3D rendering of a Roman soldier', 'sigma': 5.0, 'frontview_std': 4, 'seed': 3661, 'standardize': False}\n",
      "{'prompt': 'a 3D rendering of a Roman soldier', 'sigma': 5.0, 'frontview_std': 100, 'seed': 29, 'standardize': True}\n",
      "{'prompt': 'a 3D rendering of a Roman soldier', 'sigma': 5.0, 'frontview_std': 100, 'seed': 29, 'standardize': False}\n",
      "{'prompt': 'a 3D rendering of a Roman soldier', 'sigma': 5.0, 'frontview_std': 100, 'seed': 1821, 'standardize': True}\n",
      "{'prompt': 'a 3D rendering of a Roman soldier', 'sigma': 5.0, 'frontview_std': 100, 'seed': 1821, 'standardize': False}\n",
      "{'prompt': 'a 3D rendering of a Roman soldier', 'sigma': 5.0, 'frontview_std': 100, 'seed': 3661, 'standardize': True}\n",
      "{'prompt': 'a 3D rendering of a Roman soldier', 'sigma': 5.0, 'frontview_std': 100, 'seed': 3661, 'standardize': False}\n",
      "{'prompt': 'a 3D rendering of a Roman soldier', 'sigma': 1.0, 'frontview_std': 4, 'seed': 29, 'standardize': True}\n",
      "{'prompt': 'a 3D rendering of a Roman soldier', 'sigma': 1.0, 'frontview_std': 4, 'seed': 29, 'standardize': False}\n",
      "{'prompt': 'a 3D rendering of a Roman soldier', 'sigma': 1.0, 'frontview_std': 4, 'seed': 1821, 'standardize': True}\n",
      "{'prompt': 'a 3D rendering of a Roman soldier', 'sigma': 1.0, 'frontview_std': 4, 'seed': 1821, 'standardize': False}\n",
      "{'prompt': 'a 3D rendering of a Roman soldier', 'sigma': 1.0, 'frontview_std': 4, 'seed': 3661, 'standardize': True}\n",
      "{'prompt': 'a 3D rendering of a Roman soldier', 'sigma': 1.0, 'frontview_std': 4, 'seed': 3661, 'standardize': False}\n",
      "{'prompt': 'a 3D rendering of a Roman soldier', 'sigma': 1.0, 'frontview_std': 100, 'seed': 29, 'standardize': True}\n",
      "{'prompt': 'a 3D rendering of a Roman soldier', 'sigma': 1.0, 'frontview_std': 100, 'seed': 29, 'standardize': False}\n",
      "{'prompt': 'a 3D rendering of a Roman soldier', 'sigma': 1.0, 'frontview_std': 100, 'seed': 1821, 'standardize': True}\n",
      "{'prompt': 'a 3D rendering of a Roman soldier', 'sigma': 1.0, 'frontview_std': 100, 'seed': 1821, 'standardize': False}\n",
      "{'prompt': 'a 3D rendering of a Roman soldier', 'sigma': 1.0, 'frontview_std': 100, 'seed': 3661, 'standardize': True}\n",
      "{'prompt': 'a 3D rendering of a Roman soldier', 'sigma': 1.0, 'frontview_std': 100, 'seed': 3661, 'standardize': False}\n",
      "{'prompt': 'a legionary wearing armor', 'sigma': 12.0, 'frontview_std': 4, 'seed': 29, 'standardize': True}\n",
      "{'prompt': 'a legionary wearing armor', 'sigma': 12.0, 'frontview_std': 4, 'seed': 29, 'standardize': False}\n",
      "{'prompt': 'a legionary wearing armor', 'sigma': 12.0, 'frontview_std': 4, 'seed': 1821, 'standardize': True}\n",
      "{'prompt': 'a legionary wearing armor', 'sigma': 12.0, 'frontview_std': 4, 'seed': 1821, 'standardize': False}\n",
      "{'prompt': 'a legionary wearing armor', 'sigma': 12.0, 'frontview_std': 4, 'seed': 3661, 'standardize': True}\n",
      "{'prompt': 'a legionary wearing armor', 'sigma': 12.0, 'frontview_std': 4, 'seed': 3661, 'standardize': False}\n",
      "{'prompt': 'a legionary wearing armor', 'sigma': 12.0, 'frontview_std': 100, 'seed': 29, 'standardize': True}\n",
      "{'prompt': 'a legionary wearing armor', 'sigma': 12.0, 'frontview_std': 100, 'seed': 29, 'standardize': False}\n",
      "{'prompt': 'a legionary wearing armor', 'sigma': 12.0, 'frontview_std': 100, 'seed': 1821, 'standardize': True}\n",
      "{'prompt': 'a legionary wearing armor', 'sigma': 12.0, 'frontview_std': 100, 'seed': 1821, 'standardize': False}\n",
      "{'prompt': 'a legionary wearing armor', 'sigma': 12.0, 'frontview_std': 100, 'seed': 3661, 'standardize': True}\n",
      "{'prompt': 'a legionary wearing armor', 'sigma': 12.0, 'frontview_std': 100, 'seed': 3661, 'standardize': False}\n",
      "{'prompt': 'a legionary wearing armor', 'sigma': 5.0, 'frontview_std': 4, 'seed': 29, 'standardize': True}\n",
      "{'prompt': 'a legionary wearing armor', 'sigma': 5.0, 'frontview_std': 4, 'seed': 29, 'standardize': False}\n",
      "{'prompt': 'a legionary wearing armor', 'sigma': 5.0, 'frontview_std': 4, 'seed': 1821, 'standardize': True}\n",
      "{'prompt': 'a legionary wearing armor', 'sigma': 5.0, 'frontview_std': 4, 'seed': 1821, 'standardize': False}\n",
      "{'prompt': 'a legionary wearing armor', 'sigma': 5.0, 'frontview_std': 4, 'seed': 3661, 'standardize': True}\n",
      "{'prompt': 'a legionary wearing armor', 'sigma': 5.0, 'frontview_std': 4, 'seed': 3661, 'standardize': False}\n",
      "{'prompt': 'a legionary wearing armor', 'sigma': 5.0, 'frontview_std': 100, 'seed': 29, 'standardize': True}\n",
      "{'prompt': 'a legionary wearing armor', 'sigma': 5.0, 'frontview_std': 100, 'seed': 29, 'standardize': False}\n",
      "{'prompt': 'a legionary wearing armor', 'sigma': 5.0, 'frontview_std': 100, 'seed': 1821, 'standardize': True}\n",
      "{'prompt': 'a legionary wearing armor', 'sigma': 5.0, 'frontview_std': 100, 'seed': 1821, 'standardize': False}\n",
      "{'prompt': 'a legionary wearing armor', 'sigma': 5.0, 'frontview_std': 100, 'seed': 3661, 'standardize': True}\n",
      "{'prompt': 'a legionary wearing armor', 'sigma': 5.0, 'frontview_std': 100, 'seed': 3661, 'standardize': False}\n",
      "{'prompt': 'a legionary wearing armor', 'sigma': 1.0, 'frontview_std': 4, 'seed': 29, 'standardize': True}\n",
      "{'prompt': 'a legionary wearing armor', 'sigma': 1.0, 'frontview_std': 4, 'seed': 29, 'standardize': False}\n",
      "{'prompt': 'a legionary wearing armor', 'sigma': 1.0, 'frontview_std': 4, 'seed': 1821, 'standardize': True}\n",
      "{'prompt': 'a legionary wearing armor', 'sigma': 1.0, 'frontview_std': 4, 'seed': 1821, 'standardize': False}\n",
      "{'prompt': 'a legionary wearing armor', 'sigma': 1.0, 'frontview_std': 4, 'seed': 3661, 'standardize': True}\n",
      "{'prompt': 'a legionary wearing armor', 'sigma': 1.0, 'frontview_std': 4, 'seed': 3661, 'standardize': False}\n",
      "{'prompt': 'a legionary wearing armor', 'sigma': 1.0, 'frontview_std': 100, 'seed': 29, 'standardize': True}\n",
      "{'prompt': 'a legionary wearing armor', 'sigma': 1.0, 'frontview_std': 100, 'seed': 29, 'standardize': False}\n",
      "{'prompt': 'a legionary wearing armor', 'sigma': 1.0, 'frontview_std': 100, 'seed': 1821, 'standardize': True}\n",
      "{'prompt': 'a legionary wearing armor', 'sigma': 1.0, 'frontview_std': 100, 'seed': 1821, 'standardize': False}\n",
      "{'prompt': 'a legionary wearing armor', 'sigma': 1.0, 'frontview_std': 100, 'seed': 3661, 'standardize': True}\n",
      "{'prompt': 'a legionary wearing armor', 'sigma': 1.0, 'frontview_std': 100, 'seed': 3661, 'standardize': False}\n"
     ]
    }
   ],
   "source": [
    "# check the config dict and put the keys where their value is list in another list\n",
    "from itertools import product\n",
    "list_of_keys = []\n",
    "for key in config.keys():\n",
    "    if isinstance(config[key], list):\n",
    "        list_of_keys.append(key)\n",
    "\n",
    "# create a cartesian product of the list of keys and the values inside the list\n",
    "# and return the list of tuples\n",
    "cartesian_product = list(product(*(config[key] for key in list_of_keys)))\n",
    "print(cartesian_product)\n",
    "# create a list of dictionaries\n",
    "# each dictionary is a combination of the cartesian product of the list of keys and the values inside the list\n",
    "list_of_dict = [dict(zip(list_of_keys, tup)) for tup in cartesian_product]\n",
    "\n",
    "# for each dictionary in the list_of_dict run the main.py script with the current combination of parameters\n",
    "commands = []\n",
    "for id_dict, dictionary in enumerate(list_of_dict):\n",
    "    print(dictionary)\n",
    "    # create the command to run the main.py script\n",
    "    # add to the begining of the command the gpu number enumrated om\n",
    "    command = \"python main.py\"\n",
    "    # for each key in the dictionary append the key and the value to the command\n",
    "    for key in config.keys():\n",
    "\n",
    "        value = dictionary[key] if key in dictionary.keys() else config[key]\n",
    "        if key == \"output_dir\":\n",
    "            value = value + \"/\" + str(id_dict)\n",
    "        # check the value if it is boolean and True then only add the key\n",
    "        if isinstance(value, bool):\n",
    "            if value == True:\n",
    "                command += \" --\" + str(key)\n",
    "        else:\n",
    "            command += \" --\" + str(key) + \" \" + str(value)\n",
    "    \n",
    "   #  add the command to the list of commands\n",
    "    commands.append(command)\n",
    "# run each command on differnt gpu with based on cuda_visible_devices \n",
    "# and if the number of the commands are more than the number of gpu then wait and run the rest accoridnly\n",
    "gpu_number = 0\n",
    "with open(\"run_command.sh\", \"w\") as text_file:\n",
    "    for command in commands:\n",
    "        # if the gpu number is less than the number of gpu then run the command on that gpu\n",
    "        if gpu_number < n_gpu-1:\n",
    "            gpu_number += 1\n",
    "            command = \"CUDA_VISIBLE_DEVICES=\" + str(gpu_number) + \" \" + command + \" &\"\n",
    "            # write the command to a bash file\n",
    "            text_file.write(command)\n",
    "            text_file.write(\"\\n\")\n",
    "            \n",
    "            \n",
    "        # if the number of the commands is greater than the number of gpu then wait until the gpu is free and run the command\n",
    "        else:\n",
    "            text_file.write(\"echo 'waiting for gpus to be free' \\n\")\n",
    "            text_file.write(\"wait \\n\")\n",
    "            gpu_number = 0\n",
    "    text_file.write(\"wait \\n\")\n",
    "    text_file.write(\"echo 'all taskes are assigned'\")\n",
    "    text_file.write(\"wait \\n\")\n",
    "    # zip everything inside config['output_dir'] \n",
    "    text_file.write(\"echo 'zipping'\")\n",
    "    text_file.write(\"\\n\")\n",
    "    text_file.write(\"zip -r \" + config['output_dir'] + \"_zip \" + config['output_dir'])\n",
    "    text_file.write(\"\\n\")\n",
    "\n",
    "\n",
    "    \n",
    "\n",
    "\n",
    "\n",
    "\n",
    "\n",
    "\n",
    "\n",
    "\n",
    "\n",
    "\n"
   ]
  },
  {
   "cell_type": "code",
   "execution_count": null,
   "metadata": {},
   "outputs": [],
   "source": []
  }
 ],
 "metadata": {
  "interpreter": {
   "hash": "e489120f8caa432d471a6548933950ab453f6f3c39e34ee852dfc9811d01c151"
  },
  "kernelspec": {
   "display_name": "Python 3.7.12 ('text2mesh': conda)",
   "language": "python",
   "name": "python3"
  },
  "language_info": {
   "codemirror_mode": {
    "name": "ipython",
    "version": 3
   },
   "file_extension": ".py",
   "mimetype": "text/x-python",
   "name": "python",
   "nbconvert_exporter": "python",
   "pygments_lexer": "ipython3",
   "version": "3.7.12"
  },
  "orig_nbformat": 4
 },
 "nbformat": 4,
 "nbformat_minor": 2
}
