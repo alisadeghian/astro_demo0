{
 "cells": [
  {
   "cell_type": "code",
   "execution_count": 37,
   "metadata": {},
   "outputs": [],
   "source": [
    "# find all the pathes inisde a given directory\n",
    "import os\n",
    "import glob\n",
    "import torch\n",
    "import numpy as np\n",
    "# find all the pathes inisde a given directory\n",
    "def find_all_paths(directory):\n",
    "    return glob.glob(directory + \"/*/losses.pt\")\n",
    "# open each loss.pt with pytorch file and add them to a list\n",
    "def open_all_loss_pt(paths):\n",
    "    loss_pts = {}\n",
    "    for path in paths:\n",
    "        # return the last directory in the path\n",
    "        directory = os.path.basename(os.path.dirname(path))\n",
    "        loss_pts[directory] = torch.load(path)\n",
    "    return loss_pts"
   ]
  },
  {
   "cell_type": "code",
   "execution_count": 48,
   "metadata": {},
   "outputs": [],
   "source": [
    "pathes = find_all_paths(\"results/demo/roman\")\n",
    "path2loss = open_all_loss_pt(pathes)"
   ]
  },
  {
   "cell_type": "code",
   "execution_count": 49,
   "metadata": {},
   "outputs": [],
   "source": [
    "# for each key in path2loss find the minimum value in the tensor and sort the keys based on their minimum value\n",
    "min_loss = {}\n",
    "for key in path2loss.keys():\n",
    "    # get the min and the index of the min only on idx multipilcative of 100\n",
    "    min_loss_tuple = torch.min(path2loss[key][0::100], dim=0)[:2]\n",
    "    # round the second element of the tensor tuple to closest 100's place\n",
    "    # min_loss[key] = (min_loss_tuple[0], round(min_loss_tuple[1].numpy() / 100) * 100)\n",
    "    min_loss[key] = (min_loss_tuple[0], min_loss_tuple[1].numpy()*100)\n",
    "sorted_min_loss = sorted(min_loss.items(), key=lambda x: x[1][0])\n"
   ]
  },
  {
   "cell_type": "code",
   "execution_count": 50,
   "metadata": {},
   "outputs": [
    {
     "data": {
      "text/plain": [
       "[('7', (tensor(-0.3704), 1400)),\n",
       " ('1', (tensor(-0.3628), 1400)),\n",
       " ('6', (tensor(-0.3591), 1400)),\n",
       " ('3', (tensor(-0.3542), 1400)),\n",
       " ('0', (tensor(-0.3481), 1400)),\n",
       " ('5', (tensor(-0.3447), 800)),\n",
       " ('11', (tensor(-0.3391), 800)),\n",
       " ('2', (tensor(-0.3230), 1400)),\n",
       " ('10', (tensor(-0.3191), 800)),\n",
       " ('8', (tensor(-0.3088), 600)),\n",
       " ('4', (tensor(-0.2998), 300))]"
      ]
     },
     "execution_count": 50,
     "metadata": {},
     "output_type": "execute_result"
    }
   ],
   "source": [
    "sorted_min_loss"
   ]
  },
  {
   "cell_type": "code",
   "execution_count": 28,
   "metadata": {},
   "outputs": [
    {
     "data": {
      "text/plain": [
       "(tensor(-0.4773), tensor(1841))"
      ]
     },
     "execution_count": 28,
     "metadata": {},
     "output_type": "execute_result"
    }
   ],
   "source": [
    "torch.min(path2loss[key], dim=0)[:2]"
   ]
  },
  {
   "cell_type": "code",
   "execution_count": 27,
   "metadata": {},
   "outputs": [
    {
     "data": {
      "text/plain": [
       "torch.Size([2000])"
      ]
     },
     "execution_count": 27,
     "metadata": {},
     "output_type": "execute_result"
    }
   ],
   "source": [
    "path2loss[key].shape"
   ]
  },
  {
   "cell_type": "code",
   "execution_count": null,
   "metadata": {},
   "outputs": [],
   "source": []
  }
 ],
 "metadata": {
  "interpreter": {
   "hash": "e489120f8caa432d471a6548933950ab453f6f3c39e34ee852dfc9811d01c151"
  },
  "kernelspec": {
   "display_name": "Python 3.7.12 ('text2mesh')",
   "language": "python",
   "name": "python3"
  },
  "language_info": {
   "codemirror_mode": {
    "name": "ipython",
    "version": 3
   },
   "file_extension": ".py",
   "mimetype": "text/x-python",
   "name": "python",
   "nbconvert_exporter": "python",
   "pygments_lexer": "ipython3",
   "version": "3.7.12"
  },
  "orig_nbformat": 4
 },
 "nbformat": 4,
 "nbformat_minor": 2
}
